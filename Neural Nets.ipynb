{
 "cells": [
  {
   "cell_type": "markdown",
   "metadata": {
    "colab_type": "text",
    "id": "TL5y5fY9Jy_x"
   },
   "source": [
    "# Neural Nets using Tensorflow & Keras"
   ]
  },
  {
   "cell_type": "markdown",
   "metadata": {
    "colab_type": "text",
    "id": "7RDY3EeAluPd"
   },
   "source": [
    "## Objectives:\n",
    "\n",
    "  * Creating a simple deep neural network.\n",
    "  * Tuning the hyperparameters."
   ]
  },
  {
   "cell_type": "markdown",
   "metadata": {
    "colab_type": "text",
    "id": "XGj0PNaJlubZ"
   },
   "source": [
    "## The Dataset\n",
    "  \n",
    "Like previous notebooks this notebook uses the California Housing Dataset"
   ]
  },
  {
   "cell_type": "code",
   "execution_count": 58,
   "metadata": {
    "cellView": "form",
    "colab": {},
    "colab_type": "code",
    "id": "9n9_cTveKmse"
   },
   "outputs": [],
   "source": [
    "import numpy as np\n",
    "import pandas as pd\n",
    "import tensorflow as tf\n",
    "from tensorflow.keras import layers\n",
    "from matplotlib import pyplot as plt\n",
    "import seaborn as sns\n",
    "\n",
    "# The following lines adjust the granularity  \n",
    "pd.options.display.max_rows = 10\n",
    "pd.options.display.float_format = \"{:.1f}\".format\n"
   ]
  },
  {
   "cell_type": "markdown",
   "metadata": {
    "colab_type": "text",
    "id": "X_TaJhU4KcuY"
   },
   "source": [
    "## Load the dataset\n",
    "\n",
    "* `train_df`, which contains the training set\n",
    "* `test_df`, which contains the test set\n",
    "   "
   ]
  },
  {
   "cell_type": "code",
   "execution_count": 59,
   "metadata": {
    "colab": {},
    "colab_type": "code",
    "id": "JZlvdpyYKx7V"
   },
   "outputs": [],
   "source": [
    "train_df = pd.read_csv(\"data/california_housing_train.csv\")\n",
    "train_df = train_df.reindex(np.random.permutation(train_df.index)) # shuffle the dataset\n",
    "test_df = pd.read_csv(\"data/california_housing_test.csv\")"
   ]
  },
  {
   "cell_type": "markdown",
   "metadata": {
    "colab_type": "text",
    "id": "8ldP-5z1B2vL"
   },
   "source": [
    "## Normalize values\n",
    " \n",
    "Converting each value to its Z-score."
   ]
  },
  {
   "cell_type": "code",
   "execution_count": 60,
   "metadata": {
    "cellView": "form",
    "colab": {},
    "colab_type": "code",
    "id": "g8HC-TDgB1D1"
   },
   "outputs": [],
   "source": [
    "# Calculating the Z-scores of each column in the training set:\n",
    "train_df_mean = train_df.mean()\n",
    "train_df_std = train_df.std()\n",
    "train_df_norm = (train_df - train_df_mean)/train_df_std\n",
    "\n",
    "# Calculating the Z-scores of each column in the test set.\n",
    "test_df_mean = test_df.mean()\n",
    "test_df_std = test_df.std()\n",
    "test_df_norm = (test_df - test_df_mean)/test_df_std\n"
   ]
  },
  {
   "cell_type": "code",
   "execution_count": 61,
   "metadata": {},
   "outputs": [
    {
     "data": {
      "text/html": [
       "<div>\n",
       "<style scoped>\n",
       "    .dataframe tbody tr th:only-of-type {\n",
       "        vertical-align: middle;\n",
       "    }\n",
       "\n",
       "    .dataframe tbody tr th {\n",
       "        vertical-align: top;\n",
       "    }\n",
       "\n",
       "    .dataframe thead th {\n",
       "        text-align: right;\n",
       "    }\n",
       "</style>\n",
       "<table border=\"1\" class=\"dataframe\">\n",
       "  <thead>\n",
       "    <tr style=\"text-align: right;\">\n",
       "      <th></th>\n",
       "      <th>longitude</th>\n",
       "      <th>latitude</th>\n",
       "      <th>housing_median_age</th>\n",
       "      <th>total_rooms</th>\n",
       "      <th>total_bedrooms</th>\n",
       "      <th>population</th>\n",
       "      <th>households</th>\n",
       "      <th>median_income</th>\n",
       "      <th>median_house_value</th>\n",
       "    </tr>\n",
       "  </thead>\n",
       "  <tbody>\n",
       "    <tr>\n",
       "      <th>8985</th>\n",
       "      <td>0.3</td>\n",
       "      <td>-0.4</td>\n",
       "      <td>-0.4</td>\n",
       "      <td>-0.8</td>\n",
       "      <td>-0.9</td>\n",
       "      <td>-1.0</td>\n",
       "      <td>-0.9</td>\n",
       "      <td>-0.2</td>\n",
       "      <td>-0.8</td>\n",
       "    </tr>\n",
       "    <tr>\n",
       "      <th>12601</th>\n",
       "      <td>-1.1</td>\n",
       "      <td>1.4</td>\n",
       "      <td>-1.2</td>\n",
       "      <td>1.9</td>\n",
       "      <td>1.5</td>\n",
       "      <td>1.2</td>\n",
       "      <td>1.6</td>\n",
       "      <td>0.4</td>\n",
       "      <td>0.2</td>\n",
       "    </tr>\n",
       "    <tr>\n",
       "      <th>2756</th>\n",
       "      <td>0.9</td>\n",
       "      <td>-0.8</td>\n",
       "      <td>-2.0</td>\n",
       "      <td>2.6</td>\n",
       "      <td>1.9</td>\n",
       "      <td>2.2</td>\n",
       "      <td>1.9</td>\n",
       "      <td>1.2</td>\n",
       "      <td>0.4</td>\n",
       "    </tr>\n",
       "    <tr>\n",
       "      <th>9689</th>\n",
       "      <td>0.0</td>\n",
       "      <td>0.2</td>\n",
       "      <td>0.7</td>\n",
       "      <td>-0.9</td>\n",
       "      <td>-0.8</td>\n",
       "      <td>-0.7</td>\n",
       "      <td>-0.8</td>\n",
       "      <td>-1.2</td>\n",
       "      <td>-1.4</td>\n",
       "    </tr>\n",
       "    <tr>\n",
       "      <th>15001</th>\n",
       "      <td>-1.3</td>\n",
       "      <td>1.0</td>\n",
       "      <td>-1.9</td>\n",
       "      <td>7.3</td>\n",
       "      <td>5.6</td>\n",
       "      <td>5.2</td>\n",
       "      <td>5.8</td>\n",
       "      <td>2.0</td>\n",
       "      <td>1.2</td>\n",
       "    </tr>\n",
       "    <tr>\n",
       "      <th>...</th>\n",
       "      <td>...</td>\n",
       "      <td>...</td>\n",
       "      <td>...</td>\n",
       "      <td>...</td>\n",
       "      <td>...</td>\n",
       "      <td>...</td>\n",
       "      <td>...</td>\n",
       "      <td>...</td>\n",
       "      <td>...</td>\n",
       "    </tr>\n",
       "    <tr>\n",
       "      <th>11168</th>\n",
       "      <td>-0.7</td>\n",
       "      <td>1.6</td>\n",
       "      <td>-1.3</td>\n",
       "      <td>-0.4</td>\n",
       "      <td>-0.6</td>\n",
       "      <td>-0.5</td>\n",
       "      <td>-0.6</td>\n",
       "      <td>0.0</td>\n",
       "      <td>-0.1</td>\n",
       "    </tr>\n",
       "    <tr>\n",
       "      <th>14731</th>\n",
       "      <td>-1.3</td>\n",
       "      <td>1.0</td>\n",
       "      <td>1.1</td>\n",
       "      <td>-0.8</td>\n",
       "      <td>-0.7</td>\n",
       "      <td>-0.5</td>\n",
       "      <td>-0.6</td>\n",
       "      <td>-1.1</td>\n",
       "      <td>-1.0</td>\n",
       "    </tr>\n",
       "    <tr>\n",
       "      <th>8857</th>\n",
       "      <td>0.4</td>\n",
       "      <td>-0.7</td>\n",
       "      <td>-0.8</td>\n",
       "      <td>0.4</td>\n",
       "      <td>0.3</td>\n",
       "      <td>1.2</td>\n",
       "      <td>0.2</td>\n",
       "      <td>2.1</td>\n",
       "      <td>2.5</td>\n",
       "    </tr>\n",
       "    <tr>\n",
       "      <th>3913</th>\n",
       "      <td>0.8</td>\n",
       "      <td>-0.7</td>\n",
       "      <td>0.4</td>\n",
       "      <td>-0.3</td>\n",
       "      <td>-0.3</td>\n",
       "      <td>-0.4</td>\n",
       "      <td>-0.3</td>\n",
       "      <td>-0.1</td>\n",
       "      <td>-0.4</td>\n",
       "    </tr>\n",
       "    <tr>\n",
       "      <th>10807</th>\n",
       "      <td>-0.6</td>\n",
       "      <td>-0.2</td>\n",
       "      <td>-1.6</td>\n",
       "      <td>-0.0</td>\n",
       "      <td>-0.3</td>\n",
       "      <td>-0.2</td>\n",
       "      <td>-0.3</td>\n",
       "      <td>0.8</td>\n",
       "      <td>1.1</td>\n",
       "    </tr>\n",
       "  </tbody>\n",
       "</table>\n",
       "<p>17000 rows × 9 columns</p>\n",
       "</div>"
      ],
      "text/plain": [
       "       longitude  latitude  housing_median_age  total_rooms  total_bedrooms  \\\n",
       "8985         0.3      -0.4                -0.4         -0.8            -0.9   \n",
       "12601       -1.1       1.4                -1.2          1.9             1.5   \n",
       "2756         0.9      -0.8                -2.0          2.6             1.9   \n",
       "9689         0.0       0.2                 0.7         -0.9            -0.8   \n",
       "15001       -1.3       1.0                -1.9          7.3             5.6   \n",
       "...          ...       ...                 ...          ...             ...   \n",
       "11168       -0.7       1.6                -1.3         -0.4            -0.6   \n",
       "14731       -1.3       1.0                 1.1         -0.8            -0.7   \n",
       "8857         0.4      -0.7                -0.8          0.4             0.3   \n",
       "3913         0.8      -0.7                 0.4         -0.3            -0.3   \n",
       "10807       -0.6      -0.2                -1.6         -0.0            -0.3   \n",
       "\n",
       "       population  households  median_income  median_house_value  \n",
       "8985         -1.0        -0.9           -0.2                -0.8  \n",
       "12601         1.2         1.6            0.4                 0.2  \n",
       "2756          2.2         1.9            1.2                 0.4  \n",
       "9689         -0.7        -0.8           -1.2                -1.4  \n",
       "15001         5.2         5.8            2.0                 1.2  \n",
       "...           ...         ...            ...                 ...  \n",
       "11168        -0.5        -0.6            0.0                -0.1  \n",
       "14731        -0.5        -0.6           -1.1                -1.0  \n",
       "8857          1.2         0.2            2.1                 2.5  \n",
       "3913         -0.4        -0.3           -0.1                -0.4  \n",
       "10807        -0.2        -0.3            0.8                 1.1  \n",
       "\n",
       "[17000 rows x 9 columns]"
      ]
     },
     "execution_count": 61,
     "metadata": {},
     "output_type": "execute_result"
    }
   ],
   "source": [
    "train_df_norm"
   ]
  },
  {
   "cell_type": "markdown",
   "metadata": {
    "colab_type": "text",
    "id": "b9ehCgIRjTxy"
   },
   "source": [
    "## Represent data into features\n",
    "\n",
    "* `latitude` X `longitude` (feature cross)\n",
    "* `median_income`\n",
    "* `population`\n"
   ]
  },
  {
   "cell_type": "code",
   "execution_count": 62,
   "metadata": {
    "colab": {},
    "colab_type": "code",
    "id": "8EkNAQhnjSu-"
   },
   "outputs": [],
   "source": [
    "feature_columns = []\n",
    "\n",
    "#A resolution_in_Zs of 1 corresponds to \n",
    "# a full standard deviation\n",
    "resolution_in_Zs = 0.3  # 3/10 of a standard deviation\n",
    "\n",
    "\n",
    "# bucket feature column for latitude\n",
    "latitude_as_a_numeric_column = tf.feature_column.numeric_column(\"latitude\")\n",
    "latitude_boundaries = list(np.arange(int(min(train_df_norm['latitude'])), \n",
    "                                     int(max(train_df_norm['latitude'])), \n",
    "                                     resolution_in_Zs))\n",
    "latitude = tf.feature_column.bucketized_column(latitude_as_a_numeric_column, latitude_boundaries)\n",
    "\n",
    "\n",
    "\n",
    "# bucket feature column for longitude.\n",
    "longitude_as_a_numeric_column = tf.feature_column.numeric_column(\"longitude\")\n",
    "longitude_boundaries = list(np.arange(int(min(train_df_norm['longitude'])), \n",
    "                                      int(max(train_df_norm['longitude'])), \n",
    "                                      resolution_in_Zs))\n",
    "longitude = tf.feature_column.bucketized_column(longitude_as_a_numeric_column, \n",
    "                                                longitude_boundaries)\n",
    "\n",
    "\n",
    "\n",
    "# feature cross of latitude and longitude.\n",
    "latitude_x_longitude = tf.feature_column.crossed_column([latitude, longitude], hash_bucket_size=100)\n",
    "crossed_feature = tf.feature_column.indicator_column(latitude_x_longitude)\n",
    "feature_columns.append(crossed_feature)  \n",
    "\n",
    "\n",
    "# median_income as a numeric column.\n",
    "median_income = tf.feature_column.numeric_column(\"median_income\")\n",
    "feature_columns.append(median_income)\n",
    "\n",
    "\n",
    "# population as a numeric column.\n",
    "population = tf.feature_column.numeric_column(\"population\")\n",
    "feature_columns.append(population)\n",
    "\n",
    "\n",
    "my_feature_layer = tf.keras.layers.DenseFeatures(feature_columns)"
   ]
  },
  {
   "cell_type": "markdown",
   "metadata": {
    "colab_type": "text",
    "id": "Ak_TMAzGOIFq"
   },
   "source": [
    "## Build a linear regression model as a baseline\n",
    "\n",
    "Before creating a deep neural network, we make a model for baseline loss by running a simple linear regression model that uses the feature layer\n"
   ]
  },
  {
   "cell_type": "code",
   "execution_count": 63,
   "metadata": {
    "cellView": "form",
    "colab": {},
    "colab_type": "code",
    "id": "QF0BFRXTOeR3"
   },
   "outputs": [],
   "source": [
    "def plot_the_loss_curve(epochs, mse):\n",
    "  \"\"\" curve of loss vs epoch\"\"\"\n",
    "\n",
    "  plt.figure()\n",
    "  plt.xlabel(\"Epoch\")\n",
    "  plt.ylabel(\"Mean Squared Error\")\n",
    "\n",
    "  plt.plot(epochs, mse, label=\"Loss\")\n",
    "  plt.legend()\n",
    "  plt.ylim([mse.min()*0.95, mse.max() * 1.03])\n",
    "  plt.show()  \n"
   ]
  },
  {
   "cell_type": "code",
   "execution_count": 64,
   "metadata": {
    "cellView": "form",
    "colab": {},
    "colab_type": "code",
    "id": "RW4Qe710LgnG"
   },
   "outputs": [],
   "source": [
    "def create_model(my_learning_rate, feature_layer):\n",
    "  \"\"\" a simple linear regression model.\"\"\"\n",
    "\n",
    "  model = tf.keras.models.Sequential()\n",
    "\n",
    "\n",
    "  model.add(feature_layer)\n",
    "  model.add(tf.keras.layers.Dense(units=1, input_shape=(1,)))\n",
    "\n",
    "  \n",
    "  model.compile(optimizer=tf.keras.optimizers.RMSprop(lr=my_learning_rate),\n",
    "                loss=\"mean_squared_error\",\n",
    "                metrics=[tf.keras.metrics.MeanSquaredError()])\n",
    "\n",
    "  return model           \n",
    "\n",
    "\n",
    "def train_model(model, dataset, epochs, batch_size, label_name):\n",
    "  \"\"\" train model \"\"\"\n",
    "\n",
    "  # Splitting the dataset into features and label.\n",
    "  features = {name:np.array(value) for name, value in dataset.items()}\n",
    "  label = np.array(features.pop(label_name))\n",
    "  history = model.fit(x=features, y=label, batch_size=batch_size,\n",
    "                      epochs=epochs, shuffle=True)\n",
    "\n",
    "  # details that will be useful for plotting the loss curve.\n",
    "  epochs = history.epoch\n",
    "  hist = pd.DataFrame(history.history)\n",
    "  rmse = hist[\"mean_squared_error\"]\n",
    "\n",
    "  return epochs, rmse   \n"
   ]
  },
  {
   "cell_type": "code",
   "execution_count": 65,
   "metadata": {
    "colab_type": "text",
    "id": "f47LmxF5X_pu"
   },
   "outputs": [],
   "source": [
    "import warnings\n",
    "warnings.filterwarnings('ignore') \n",
    "tf.compat.v1.logging.set_verbosity(tf.compat.v1.logging.ERROR)\n",
    "\n",
    "#suppressing warnings"
   ]
  },
  {
   "cell_type": "code",
   "execution_count": 66,
   "metadata": {
    "colab": {},
    "colab_type": "code",
    "id": "tsfE4ujDL4ju"
   },
   "outputs": [
    {
     "name": "stdout",
     "output_type": "stream",
     "text": [
      "Epoch 1/15\n",
      "17/17 [==============================] - 0s 1ms/step - loss: 0.7901 - mean_squared_error: 0.7901\n",
      "Epoch 2/15\n",
      "17/17 [==============================] - 0s 1ms/step - loss: 0.5439 - mean_squared_error: 0.5439\n",
      "Epoch 3/15\n",
      "17/17 [==============================] - 0s 1ms/step - loss: 0.4311 - mean_squared_error: 0.4311\n",
      "Epoch 4/15\n",
      "17/17 [==============================] - 0s 1ms/step - loss: 0.3824 - mean_squared_error: 0.3824\n",
      "Epoch 5/15\n",
      "17/17 [==============================] - 0s 1ms/step - loss: 0.3670 - mean_squared_error: 0.3670\n",
      "Epoch 6/15\n",
      "17/17 [==============================] - 0s 1ms/step - loss: 0.3626 - mean_squared_error: 0.3626\n",
      "Epoch 7/15\n",
      "17/17 [==============================] - 0s 1ms/step - loss: 0.3607 - mean_squared_error: 0.3607\n",
      "Epoch 8/15\n",
      "17/17 [==============================] - 0s 1ms/step - loss: 0.3601 - mean_squared_error: 0.3601\n",
      "Epoch 9/15\n",
      "17/17 [==============================] - 0s 1ms/step - loss: 0.3602 - mean_squared_error: 0.3602\n",
      "Epoch 10/15\n",
      "17/17 [==============================] - 0s 1ms/step - loss: 0.3602 - mean_squared_error: 0.3602\n",
      "Epoch 11/15\n",
      "17/17 [==============================] - 0s 1ms/step - loss: 0.3601 - mean_squared_error: 0.3601\n",
      "Epoch 12/15\n",
      "17/17 [==============================] - 0s 1ms/step - loss: 0.3598 - mean_squared_error: 0.3598\n",
      "Epoch 13/15\n",
      "17/17 [==============================] - 0s 1ms/step - loss: 0.3598 - mean_squared_error: 0.3598\n",
      "Epoch 14/15\n",
      "17/17 [==============================] - 0s 1ms/step - loss: 0.3600 - mean_squared_error: 0.3600\n",
      "Epoch 15/15\n",
      "17/17 [==============================] - 0s 1ms/step - loss: 0.3598 - mean_squared_error: 0.3598\n"
     ]
    },
    {
     "data": {
      "image/png": "[encoded data removed]",
      "text/plain": [
       "<Figure size 432x288 with 1 Axes>"
      ]
     },
     "metadata": {
      "needs_background": "light"
     },
     "output_type": "display_data"
    },
    {
     "name": "stdout",
     "output_type": "stream",
     "text": [
      "\n",
      " Evaluating the linear regression model against the test set:\n",
      "3/3 [==============================] - 0s 1ms/step - loss: 0.3954 - mean_squared_error: 0.3954\n"
     ]
    },
    {
     "data": {
      "text/plain": [
       "[0.3953688442707062, 0.3953688442707062]"
      ]
     },
     "execution_count": 66,
     "metadata": {},
     "output_type": "execute_result"
    }
   ],
   "source": [
    "learning_rate = 0.01\n",
    "epochs = 15\n",
    "batch_size = 1000\n",
    "label_name = \"median_house_value\"\n",
    "\n",
    "\n",
    "my_model = create_model(learning_rate, my_feature_layer)\n",
    "\n",
    "\n",
    "epochs, mse = train_model(my_model, train_df_norm, epochs, batch_size, label_name)\n",
    "plot_the_loss_curve(epochs, mse)\n",
    "\n",
    "test_features = {name:np.array(value) for name, value in test_df_norm.items()}\n",
    "test_label = np.array(test_features.pop(label_name)) # isolating the label\n",
    "\n",
    "\n",
    "print(\"\\n Evaluating the linear regression model against the test set:\")\n",
    "my_model.evaluate(x = test_features, y = test_label, batch_size=batch_size)"
   ]
  },
  {
   "cell_type": "markdown",
   "metadata": {
    "colab_type": "text",
    "id": "3014ezH3C7jT"
   },
   "source": [
    "## Defining a deep neural network model\n",
    "\n",
    "The `create_model` function defines:\n",
    "\n",
    "* The number of [layers](https://developers.google.com/machine-learning/glossary/#layer) in the deep neural net.\n",
    "* The number of [nodes](https://developers.google.com/machine-learning/glossary/#node) in each layer.\n",
    "\n",
    "The `create_model` function also defines the activation function of each layer"
   ]
  },
  {
   "cell_type": "code",
   "execution_count": 67,
   "metadata": {
    "cellView": "both",
    "colab": {},
    "colab_type": "code",
    "id": "pedD5GhlDC-y"
   },
   "outputs": [],
   "source": [
    "def create_model(my_learning_rate, my_feature_layer):\n",
    "  \"\"\" neural net model \"\"\"\n",
    "  \n",
    "  model = tf.keras.models.Sequential()\n",
    "\n",
    "  \n",
    "  model.add(my_feature_layer)\n",
    "\n",
    "\n",
    "  # hidden layer with 15 nodes  \n",
    "  model.add(tf.keras.layers.Dense(units=20, \n",
    "                                  activation='relu', \n",
    "                                  name='Hidden1'))\n",
    "  \n",
    "  # hidden layer with 10 nodes. \n",
    "  model.add(tf.keras.layers.Dense(units=12, \n",
    "                                  activation='relu', \n",
    "                                  name='Hidden2'))\n",
    "  \n",
    "  # output layer\n",
    "  model.add(tf.keras.layers.Dense(units=1,  \n",
    "                                  name='Output'))                              \n",
    "  \n",
    "  model.compile(optimizer=tf.keras.optimizers.Adam(lr=my_learning_rate),\n",
    "                loss=\"mean_squared_error\",\n",
    "                metrics=[tf.keras.metrics.MeanSquaredError()])\n",
    "\n",
    "  return model"
   ]
  },
  {
   "cell_type": "markdown",
   "metadata": {
    "colab_type": "text",
    "id": "anH4A_yCcZx2"
   },
   "source": [
    "## Defining a training function\n",
    "\n",
    "The `train_model` function trains the model from the input features and labels.  "
   ]
  },
  {
   "cell_type": "code",
   "execution_count": 68,
   "metadata": {
    "colab": {},
    "colab_type": "code",
    "id": "4jv_lJYTcrEF"
   },
   "outputs": [],
   "source": [
    "def train_model(model, dataset, epochs, label_name,\n",
    "                batch_size=None):\n",
    "  \"\"\" model train \"\"\"\n",
    "\n",
    "  # Splitting the dataset into features and label\n",
    "  features = {name:np.array(value) for name, value in dataset.items()}\n",
    "  label = np.array(features.pop(label_name))\n",
    "  history = model.fit(x=features, y=label, batch_size=batch_size,\n",
    "                      epochs=epochs, shuffle=True) \n",
    "\n",
    "\n",
    "  epochs = history.epoch\n",
    "  \n",
    "  \n",
    "  hist = pd.DataFrame(history.history)\n",
    "  mse = hist[\"mean_squared_error\"]\n",
    "\n",
    "  return epochs, mse"
   ]
  },
  {
   "cell_type": "markdown",
   "metadata": {
    "colab_type": "text",
    "id": "D-IXYVfvM4gD"
   },
   "source": [
    "## Calling the functions to build and train a deep neural net"
   ]
  },
  {
   "cell_type": "code",
   "execution_count": 69,
   "metadata": {
    "cellView": "both",
    "colab": {},
    "colab_type": "code",
    "id": "nj3v5EKQFY8s"
   },
   "outputs": [
    {
     "name": "stdout",
     "output_type": "stream",
     "text": [
      "Epoch 1/20\n",
      "17/17 [==============================] - 0s 2ms/step - loss: 0.5625 - mean_squared_error: 0.5625\n",
      "Epoch 2/20\n",
      "17/17 [==============================] - 0s 2ms/step - loss: 0.3593 - mean_squared_error: 0.3593\n",
      "Epoch 3/20\n",
      "17/17 [==============================] - 0s 2ms/step - loss: 0.3428 - mean_squared_error: 0.3428\n",
      "Epoch 4/20\n",
      "17/17 [==============================] - 0s 2ms/step - loss: 0.3380 - mean_squared_error: 0.3380\n",
      "Epoch 5/20\n",
      "17/17 [==============================] - 0s 2ms/step - loss: 0.3359 - mean_squared_error: 0.3359\n",
      "Epoch 6/20\n",
      "17/17 [==============================] - 0s 2ms/step - loss: 0.3341 - mean_squared_error: 0.3341\n",
      "Epoch 7/20\n",
      "17/17 [==============================] - 0s 1ms/step - loss: 0.3330 - mean_squared_error: 0.3330\n",
      "Epoch 8/20\n",
      "17/17 [==============================] - 0s 2ms/step - loss: 0.3322 - mean_squared_error: 0.3322\n",
      "Epoch 9/20\n",
      "17/17 [==============================] - 0s 1ms/step - loss: 0.3315 - mean_squared_error: 0.3315\n",
      "Epoch 10/20\n",
      "17/17 [==============================] - 0s 1ms/step - loss: 0.3292 - mean_squared_error: 0.3292\n",
      "Epoch 11/20\n",
      "17/17 [==============================] - 0s 2ms/step - loss: 0.3311 - mean_squared_error: 0.3311\n",
      "Epoch 12/20\n",
      "17/17 [==============================] - 0s 2ms/step - loss: 0.3281 - mean_squared_error: 0.3281\n",
      "Epoch 13/20\n",
      "17/17 [==============================] - 0s 1ms/step - loss: 0.3274 - mean_squared_error: 0.3274\n",
      "Epoch 14/20\n",
      "17/17 [==============================] - 0s 1ms/step - loss: 0.3278 - mean_squared_error: 0.3278\n",
      "Epoch 15/20\n",
      "17/17 [==============================] - 0s 1ms/step - loss: 0.3286 - mean_squared_error: 0.3286\n",
      "Epoch 16/20\n",
      "17/17 [==============================] - 0s 1ms/step - loss: 0.3259 - mean_squared_error: 0.3259\n",
      "Epoch 17/20\n",
      "17/17 [==============================] - 0s 1ms/step - loss: 0.3261 - mean_squared_error: 0.3261\n",
      "Epoch 18/20\n",
      "17/17 [==============================] - 0s 1ms/step - loss: 0.3258 - mean_squared_error: 0.3258\n",
      "Epoch 19/20\n",
      "17/17 [==============================] - 0s 2ms/step - loss: 0.3254 - mean_squared_error: 0.3254\n",
      "Epoch 20/20\n",
      "17/17 [==============================] - 0s 1ms/step - loss: 0.3258 - mean_squared_error: 0.3258\n"
     ]
    },
    {
     "data": {
      "image/png": "[encoded data removed]",
      "text/plain": [
       "<Figure size 432x288 with 1 Axes>"
      ]
     },
     "metadata": {
      "needs_background": "light"
     },
     "output_type": "display_data"
    },
    {
     "name": "stdout",
     "output_type": "stream",
     "text": [
      "\n",
      " Evaluating the new model against the test set:\n",
      "3/3 [==============================] - 0s 1ms/step - loss: 0.3678 - mean_squared_error: 0.3678\n"
     ]
    },
    {
     "data": {
      "text/plain": [
       "[0.3678416311740875, 0.3678416311740875]"
      ]
     },
     "execution_count": 69,
     "metadata": {},
     "output_type": "execute_result"
    }
   ],
   "source": [
    "learning_rate = 0.01\n",
    "epochs = 20\n",
    "batch_size = 1000\n",
    "\n",
    "# label\n",
    "label_name = \"median_house_value\"\n",
    "\n",
    "my_model = create_model(learning_rate, my_feature_layer)\n",
    "\n",
    "# the model will only use the features\n",
    "# defined by the feature_layer.\n",
    "epochs, mse = train_model(my_model, train_df_norm, epochs, \n",
    "                          label_name, batch_size)\n",
    "plot_the_loss_curve(epochs, mse)\n",
    "\n",
    "\n",
    "# testing that model against test set\n",
    "test_features = {name:np.array(value) for name, value in test_df_norm.items()}\n",
    "test_label = np.array(test_features.pop(label_name)) # isolate the label\n",
    "print(\"\\n Evaluating the new model against the test set:\")\n",
    "my_model.evaluate(x = test_features, y = test_label, batch_size=batch_size)"
   ]
  },
  {
   "cell_type": "markdown",
   "metadata": {},
   "source": [
    "#### Training loss is much higher, so we need to regularize the model."
   ]
  },
  {
   "cell_type": "markdown",
   "metadata": {
    "colab_type": "text",
    "id": "Pu7R_ZpDopIj"
   },
   "source": [
    "## Regularizing the neural network\n",
    "\n",
    "The model's loss against the test set is much higher than the training set. The deep neural network is overfitting to the data.  "
   ]
  },
  {
   "cell_type": "code",
   "execution_count": 70,
   "metadata": {
    "cellView": "form",
    "colab": {},
    "colab_type": "code",
    "id": "tflt9TZEDARW"
   },
   "outputs": [
    {
     "name": "stdout",
     "output_type": "stream",
     "text": [
      "Epoch 1/30\n",
      "17/17 [==============================] - 0s 1ms/step - loss: 1.2501 - mean_squared_error: 1.0442\n",
      "Epoch 2/30\n",
      "17/17 [==============================] - 0s 1ms/step - loss: 0.9406 - mean_squared_error: 0.8374\n",
      "Epoch 3/30\n",
      "17/17 [==============================] - 0s 1ms/step - loss: 0.7481 - mean_squared_error: 0.6654\n",
      "Epoch 4/30\n",
      "17/17 [==============================] - 0s 1ms/step - loss: 0.6531 - mean_squared_error: 0.5784\n",
      "Epoch 5/30\n",
      "17/17 [==============================] - 0s 1ms/step - loss: 0.5951 - mean_squared_error: 0.5291\n",
      "Epoch 6/30\n",
      "17/17 [==============================] - 0s 1ms/step - loss: 0.5535 - mean_squared_error: 0.4929\n",
      "Epoch 7/30\n",
      "17/17 [==============================] - 0s 1ms/step - loss: 0.5225 - mean_squared_error: 0.4660\n",
      "Epoch 8/30\n",
      "17/17 [==============================] - 0s 1ms/step - loss: 0.4984 - mean_squared_error: 0.4451\n",
      "Epoch 9/30\n",
      "17/17 [==============================] - 0s 2ms/step - loss: 0.4798 - mean_squared_error: 0.4297\n",
      "Epoch 10/30\n",
      "17/17 [==============================] - 0s 1ms/step - loss: 0.4639 - mean_squared_error: 0.4168\n",
      "Epoch 11/30\n",
      "17/17 [==============================] - 0s 1ms/step - loss: 0.4499 - mean_squared_error: 0.4051\n",
      "Epoch 12/30\n",
      "17/17 [==============================] - 0s 2ms/step - loss: 0.4391 - mean_squared_error: 0.3963\n",
      "Epoch 13/30\n",
      "17/17 [==============================] - 0s 1ms/step - loss: 0.4298 - mean_squared_error: 0.3887\n",
      "Epoch 14/30\n",
      "17/17 [==============================] - 0s 1ms/step - loss: 0.4239 - mean_squared_error: 0.3840\n",
      "Epoch 15/30\n",
      "17/17 [==============================] - 0s 2ms/step - loss: 0.4171 - mean_squared_error: 0.3784\n",
      "Epoch 16/30\n",
      "17/17 [==============================] - 0s 1ms/step - loss: 0.4103 - mean_squared_error: 0.3730\n",
      "Epoch 17/30\n",
      "17/17 [==============================] - 0s 2ms/step - loss: 0.4060 - mean_squared_error: 0.3694\n",
      "Epoch 18/30\n",
      "17/17 [==============================] - 0s 2ms/step - loss: 0.4013 - mean_squared_error: 0.3658\n",
      "Epoch 19/30\n",
      "17/17 [==============================] - 0s 2ms/step - loss: 0.3986 - mean_squared_error: 0.3640\n",
      "Epoch 20/30\n",
      "17/17 [==============================] - 0s 1ms/step - loss: 0.3940 - mean_squared_error: 0.3602\n",
      "Epoch 21/30\n",
      "17/17 [==============================] - 0s 2ms/step - loss: 0.3912 - mean_squared_error: 0.3582\n",
      "Epoch 22/30\n",
      "17/17 [==============================] - 0s 2ms/step - loss: 0.3893 - mean_squared_error: 0.3571\n",
      "Epoch 23/30\n",
      "17/17 [==============================] - 0s 2ms/step - loss: 0.3861 - mean_squared_error: 0.3544\n",
      "Epoch 24/30\n",
      "17/17 [==============================] - 0s 1ms/step - loss: 0.3842 - mean_squared_error: 0.3532\n",
      "Epoch 25/30\n",
      "17/17 [==============================] - 0s 2ms/step - loss: 0.3817 - mean_squared_error: 0.3513\n",
      "Epoch 26/30\n",
      "17/17 [==============================] - 0s 2ms/step - loss: 0.3812 - mean_squared_error: 0.3512\n",
      "Epoch 27/30\n",
      "17/17 [==============================] - 0s 2ms/step - loss: 0.3779 - mean_squared_error: 0.3483\n",
      "Epoch 28/30\n",
      "17/17 [==============================] - 0s 2ms/step - loss: 0.3760 - mean_squared_error: 0.3471\n",
      "Epoch 29/30\n",
      "17/17 [==============================] - 0s 2ms/step - loss: 0.3759 - mean_squared_error: 0.3476\n",
      "Epoch 30/30\n",
      "17/17 [==============================] - 0s 1ms/step - loss: 0.3743 - mean_squared_error: 0.3463\n"
     ]
    },
    {
     "data": {
      "image/png": "[encoded data removed]",
      "text/plain": [
       "<Figure size 432x288 with 1 Axes>"
      ]
     },
     "metadata": {
      "needs_background": "light"
     },
     "output_type": "display_data"
    },
    {
     "name": "stdout",
     "output_type": "stream",
     "text": [
      "\n",
      " Evaluating the new model against the test set:\n",
      "3/3 [==============================] - 0s 1ms/step - loss: 0.4069 - mean_squared_error: 0.3791\n"
     ]
    },
    {
     "data": {
      "text/plain": [
       "[0.40691956877708435, 0.37906786799430847]"
      ]
     },
     "execution_count": 70,
     "metadata": {},
     "output_type": "execute_result"
    }
   ],
   "source": [
    "def create_model(my_learning_rate, my_feature_layer):\n",
    "\n",
    "\n",
    "  model = None\n",
    "\n",
    "\n",
    "  model = tf.keras.models.Sequential()\n",
    "\n",
    "\n",
    "  model.add(my_feature_layer)\n",
    "\n",
    "\n",
    "\n",
    "  # implementing l1 regularization\n",
    "  model.add(tf.keras.layers.Dense(units=10, \n",
    "                                  activation='relu',\n",
    "                                  kernel_regularizer=tf.keras.regularizers.l1(0.002),\n",
    "                                  name='Hidden1'))\n",
    "  \n",
    "  # Implementing l1 regularization \n",
    "  model.add(tf.keras.layers.Dense(units=6, \n",
    "                                  activation='relu', \n",
    "                                  kernel_regularizer=tf.keras.regularizers.l1(0.002),\n",
    "                                  name='Hidden2'))\n",
    "\n",
    "  # output layer\n",
    "  model.add(tf.keras.layers.Dense(units=1,  \n",
    "                                  name='Output'))                              \n",
    "  \n",
    "  model.compile(optimizer=tf.keras.optimizers.Adam(lr=my_learning_rate),\n",
    "                loss=\"mean_squared_error\",\n",
    "                metrics=[tf.keras.metrics.MeanSquaredError()])\n",
    "\n",
    "  return model     \n",
    "\n",
    "\"\"\" Calling the new create_model function \"\"\"\n",
    "learning_rate = 0.007\n",
    "epochs = 30\n",
    "batch_size = 1000\n",
    "\n",
    "label_name = \"median_house_value\"\n",
    "\n",
    "\n",
    "my_model = create_model(learning_rate, my_feature_layer)\n",
    "\n",
    "\n",
    "\n",
    "epochs, mse = train_model(my_model, train_df_norm, epochs, \n",
    "                          label_name, batch_size)\n",
    "plot_the_loss_curve(epochs, mse)\n",
    "\n",
    "\n",
    "test_features = {name:np.array(value) for name, value in test_df_norm.items()}\n",
    "test_label = np.array(test_features.pop(label_name)) # isolate the label\n",
    "print(\"\\n Evaluating the new model against the test set:\")\n",
    "my_model.evaluate(x = test_features, y = test_label, batch_size=batch_size) "
   ]
  },
  {
   "cell_type": "markdown",
   "metadata": {},
   "source": [
    "#### The model's loss agaisnt the test set is still much higher than the training set"
   ]
  },
  {
   "cell_type": "markdown",
   "metadata": {},
   "source": [
    "## L2 Regularization"
   ]
  },
  {
   "cell_type": "code",
   "execution_count": 71,
   "metadata": {},
   "outputs": [
    {
     "name": "stdout",
     "output_type": "stream",
     "text": [
      "Epoch 1/20\n",
      "17/17 [==============================] - 0s 1ms/step - loss: 0.5875 - mean_squared_error: 0.5661\n",
      "Epoch 2/20\n",
      "17/17 [==============================] - 0s 2ms/step - loss: 0.4051 - mean_squared_error: 0.3872\n",
      "Epoch 3/20\n",
      "17/17 [==============================] - 0s 1ms/step - loss: 0.3765 - mean_squared_error: 0.3605\n",
      "Epoch 4/20\n",
      "17/17 [==============================] - 0s 2ms/step - loss: 0.3685 - mean_squared_error: 0.3532\n",
      "Epoch 5/20\n",
      "17/17 [==============================] - 0s 2ms/step - loss: 0.3643 - mean_squared_error: 0.3496\n",
      "Epoch 6/20\n",
      "17/17 [==============================] - 0s 2ms/step - loss: 0.3621 - mean_squared_error: 0.3482\n",
      "Epoch 7/20\n",
      "17/17 [==============================] - 0s 1ms/step - loss: 0.3599 - mean_squared_error: 0.3465\n",
      "Epoch 8/20\n",
      "17/17 [==============================] - 0s 2ms/step - loss: 0.3580 - mean_squared_error: 0.3450\n",
      "Epoch 9/20\n",
      "17/17 [==============================] - 0s 1ms/step - loss: 0.3573 - mean_squared_error: 0.3447\n",
      "Epoch 10/20\n",
      "17/17 [==============================] - 0s 2ms/step - loss: 0.3557 - mean_squared_error: 0.3434\n",
      "Epoch 11/20\n",
      "17/17 [==============================] - 0s 2ms/step - loss: 0.3543 - mean_squared_error: 0.3424\n",
      "Epoch 12/20\n",
      "17/17 [==============================] - 0s 2ms/step - loss: 0.3532 - mean_squared_error: 0.3415\n",
      "Epoch 13/20\n",
      "17/17 [==============================] - 0s 2ms/step - loss: 0.3527 - mean_squared_error: 0.3412\n",
      "Epoch 14/20\n",
      "17/17 [==============================] - 0s 2ms/step - loss: 0.3532 - mean_squared_error: 0.3418\n",
      "Epoch 15/20\n",
      "17/17 [==============================] - 0s 2ms/step - loss: 0.3515 - mean_squared_error: 0.3404\n",
      "Epoch 16/20\n",
      "17/17 [==============================] - 0s 2ms/step - loss: 0.3513 - mean_squared_error: 0.3403\n",
      "Epoch 17/20\n",
      "17/17 [==============================] - 0s 2ms/step - loss: 0.3510 - mean_squared_error: 0.3401\n",
      "Epoch 18/20\n",
      "17/17 [==============================] - 0s 2ms/step - loss: 0.3514 - mean_squared_error: 0.3406\n",
      "Epoch 19/20\n",
      "17/17 [==============================] - 0s 1ms/step - loss: 0.3505 - mean_squared_error: 0.3399\n",
      "Epoch 20/20\n",
      "17/17 [==============================] - 0s 2ms/step - loss: 0.3497 - mean_squared_error: 0.3392\n"
     ]
    },
    {
     "data": {
      "image/png": "[encoded data removed]",
      "text/plain": [
       "<Figure size 432x288 with 1 Axes>"
      ]
     },
     "metadata": {
      "needs_background": "light"
     },
     "output_type": "display_data"
    },
    {
     "name": "stdout",
     "output_type": "stream",
     "text": [
      "\n",
      " Evaluating the new model against the test set:\n",
      "3/3 [==============================] - 0s 2ms/step - loss: 0.3862 - mean_squared_error: 0.3757\n"
     ]
    },
    {
     "data": {
      "text/plain": [
       "[0.3861525058746338, 0.3756600022315979]"
      ]
     },
     "execution_count": 71,
     "metadata": {},
     "output_type": "execute_result"
    }
   ],
   "source": [
    "def create_model(my_learning_rate, my_feature_layer):\n",
    "\n",
    "\n",
    "  model = None\n",
    "\n",
    "\n",
    "  model = tf.keras.models.Sequential()\n",
    "\n",
    "\n",
    "  model.add(my_feature_layer)\n",
    "\n",
    "\n",
    "\n",
    "  # implementing l2 regularization\n",
    "  model.add(tf.keras.layers.Dense(units=10, \n",
    "                                  activation='tanh',\n",
    "                                  kernel_regularizer=tf.keras.regularizers.l2(0.001),\n",
    "                                  name='Hidden1'))\n",
    "  \n",
    "  # Implementing L2 regularization \n",
    "  model.add(tf.keras.layers.Dense(units=6, \n",
    "                                  activation='tanh', \n",
    "                                  kernel_regularizer=tf.keras.regularizers.l2(0.001),\n",
    "                                  name='Hidden2'))\n",
    "\n",
    "  # output layer\n",
    "  model.add(tf.keras.layers.Dense(units=1,  \n",
    "                                  name='Output'))                              \n",
    "  \n",
    "  model.compile(optimizer=tf.keras.optimizers.Adam(lr=my_learning_rate),\n",
    "                loss=\"mean_squared_error\",\n",
    "                metrics=[tf.keras.metrics.MeanSquaredError()])\n",
    "\n",
    "  return model     \n",
    "\n",
    "\"\"\" Calling the new create_model function \"\"\"\n",
    "learning_rate = 0.005\n",
    "epochs = 20\n",
    "batch_size = 1000\n",
    "\n",
    "label_name = \"median_house_value\"\n",
    "\n",
    "\n",
    "my_model = create_model(learning_rate, my_feature_layer)\n",
    "\n",
    "\n",
    "\n",
    "epochs, mse = train_model(my_model, train_df_norm, epochs, \n",
    "                          label_name, batch_size)\n",
    "plot_the_loss_curve(epochs, mse)\n",
    "\n",
    "\n",
    "test_features = {name:np.array(value) for name, value in test_df_norm.items()}\n",
    "test_label = np.array(test_features.pop(label_name)) # isolate the label\n",
    "print(\"\\n Evaluating the new model against the test set:\")\n",
    "my_model.evaluate(x = test_features, y = test_label, batch_size=batch_size) "
   ]
  }
 ],
 "metadata": {
  "colab": {
   "collapsed_sections": [],
   "name": "Intro to Neural Nets.ipynb",
   "private_outputs": true,
   "provenance": []
  },
  "kernelspec": {
   "display_name": "Python 3",
   "language": "python",
   "name": "python3"
  },
  "language_info": {
   "codemirror_mode": {
    "name": "ipython",
    "version": 3
   },
   "file_extension": ".py",
   "mimetype": "text/x-python",
   "name": "python",
   "nbconvert_exporter": "python",
   "pygments_lexer": "ipython3",
   "version": "3.8.5"
  }
 },
 "nbformat": 4,
 "nbformat_minor": 1
}
